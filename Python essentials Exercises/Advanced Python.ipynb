{
 "cells": [
  {
   "cell_type": "markdown",
   "metadata": {},
   "source": [
    "1. Use map function to make the email from the following list lowercase:\n",
    "lst = [\"Mary@GMAIL.com\", \"hari@YaHoo.com\", \"SopHIA@qg.com\", \"EVan@YahoO.COM\"]"
   ]
  },
  {
   "cell_type": "code",
   "execution_count": 15,
   "metadata": {},
   "outputs": [
    {
     "name": "stdout",
     "output_type": "stream",
     "text": [
      "The lst in lower case:  ['mary@gmail.com', 'hari@yahoo.com', 'sophia@qg.com', 'evan@yahoo.com']\n"
     ]
    }
   ],
   "source": [
    "def lowerFunction(x):\n",
    "    return x.lower()\n",
    "\n",
    "\n",
    "lst = [\"Mary@GMAIL.com\", \"hari@YaHoo.com\", \"SopHIA@qg.com\", \"EVan@YahoO.COM\"]\n",
    "LowerCase = list(map(lowerFunction,lst))\n",
    "print(\"The lst in lower case: \" ,LowerCase)"
   ]
  },
  {
   "cell_type": "markdown",
   "metadata": {},
   "source": [
    "2. Use map and lambda to do the previous exercise.\n"
   ]
  },
  {
   "cell_type": "code",
   "execution_count": 16,
   "metadata": {},
   "outputs": [
    {
     "name": "stdout",
     "output_type": "stream",
     "text": [
      "The lst in lower case:  ['mary@gmail.com', 'hari@yahoo.com', 'sophia@qg.com', 'evan@yahoo.com']\n"
     ]
    }
   ],
   "source": [
    "lst = [\"Mary@GMAIL.com\", \"hari@YaHoo.com\", \"SopHIA@qg.com\", \"EVan@YahoO.COM\"]\n",
    "LowerCase = list(map(lambda x: x.lower(),lst))\n",
    "print(\"The lst in lower case: \" ,LowerCase)"
   ]
  },
  {
   "cell_type": "markdown",
   "metadata": {},
   "source": [
    "3. Use map() to create a function which finds the length of each word in the phrase and returns the values (len of each word) in a list. (example sentence: Quantum computing will revolutionize the way we work.)"
   ]
  },
  {
   "cell_type": "code",
   "execution_count": 54,
   "metadata": {},
   "outputs": [
    {
     "name": "stdout",
     "output_type": "stream",
     "text": [
      "[[7, 9, 4, 13, 3, 3, 2, 4]]\n"
     ]
    }
   ],
   "source": [
    "import re\n",
    "\n",
    "txt = \"Quantum computing will revolutionize the way we work.\"\n",
    "delPunctuations = re.sub(\"[^\\w\\s]\", \"\", txt)\n",
    "lst2 =delPunctuations.split()\n",
    "#print(lst)\n",
    "lst = []\n",
    "\n",
    "lst.append(list((map(lambda x: len(x), lst2))))\n",
    "print(lst)\n"
   ]
  },
  {
   "cell_type": "markdown",
   "metadata": {},
   "source": [
    "4.Use zip to iterate to all three lists and in a for loop and print each time the first name, last name and age"
   ]
  },
  {
   "cell_type": "code",
   "execution_count": 67,
   "metadata": {},
   "outputs": [
    {
     "name": "stdout",
     "output_type": "stream",
     "text": [
      "First name: Jane , Last name: Doe, Age: 20\n",
      "First name: John , Last name: Williams, Age: 40\n",
      "First name: Jennifer , Last name: Smith, Age: 30\n"
     ]
    }
   ],
   "source": [
    "first_names = ['Jane', 'John', 'Jennifer']\n",
    "last_names = ['Doe', 'Williams', 'Smith']\n",
    "ages = [20, 40, 30]\n",
    "\n",
    "for i,j,z in zip(first_names, last_names, ages):\n",
    "    print(f\"First name: {i} , Last name: {j}, Age: {z}\")\n",
    "\n",
    "#zipped = list(zip(first_names, last_names, ages))\n",
    "#print(zipped)\n",
    "#zipped[0][0]"
   ]
  },
  {
   "cell_type": "markdown",
   "metadata": {},
   "source": [
    "5.Calculate from the following lists the profit for each month. Identify the month with the highest profits (use zip)."
   ]
  },
  {
   "cell_type": "code",
   "execution_count": 69,
   "metadata": {},
   "outputs": [
    {
     "data": {
      "text/plain": [
       "[5200.0,\n",
       " 5100.0,\n",
       " 4800.0,\n",
       " 16400.0,\n",
       " 4800.0,\n",
       " 3800.0,\n",
       " -9900.0,\n",
       " 25400.0,\n",
       " 9800.0,\n",
       " 20800.0,\n",
       " 1900.0]"
      ]
     },
     "execution_count": 69,
     "metadata": {},
     "output_type": "execute_result"
    }
   ],
   "source": [
    "\n",
    "months = ['January', 'February', 'March', 'April', 'May', 'June', 'July', 'August', 'September', 'October', 'November', 'December']\n",
    "\n",
    "total_sales = [52000.00, 51000.00, 48000.00, 62000.0, 42000.0, 46000.0, 39000.0, 59000.0, 64000.0, 54000.0, 44000.0, 71000.0]\n",
    "\n",
    "prod_cost = [46800.00, 45900.00, 43200.00, 45600.00, 37200.00, 42200.00, 48900.00, 33600.00, 54200.00, 33200.00, 42100.00]\n",
    "\n",
    "lst=[]\n",
    "\n",
    "\n",
    "for i,j,z in zip(months,total_sales,prod_cost):\n",
    "    lst.append(j-z)\n",
    "    \n",
    "lst"
   ]
  },
  {
   "cell_type": "code",
   "execution_count": null,
   "metadata": {},
   "outputs": [],
   "source": []
  }
 ],
 "metadata": {
  "kernelspec": {
   "display_name": "Python 3 (ipykernel)",
   "language": "python",
   "name": "python3"
  },
  "language_info": {
   "codemirror_mode": {
    "name": "ipython",
    "version": 3
   },
   "file_extension": ".py",
   "mimetype": "text/x-python",
   "name": "python",
   "nbconvert_exporter": "python",
   "pygments_lexer": "ipython3",
   "version": "3.7.6"
  }
 },
 "nbformat": 4,
 "nbformat_minor": 4
}
