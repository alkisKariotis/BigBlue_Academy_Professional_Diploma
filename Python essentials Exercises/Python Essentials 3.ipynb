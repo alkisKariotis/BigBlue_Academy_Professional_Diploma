{
 "cells": [
  {
   "cell_type": "markdown",
   "metadata": {},
   "source": [
    "1.Given the following dictionary use indexing to grab the word Artificial Intelligence\n",
    "d = {'k1':[1,2,3,{'tricky':['life','man','machine',{'target':[1,2,3,'Artificial Intelligence']}]}]}"
   ]
  },
  {
   "cell_type": "code",
   "execution_count": 2,
   "metadata": {},
   "outputs": [
    {
     "data": {
      "text/plain": [
       "'Artificial Intelligence'"
      ]
     },
     "execution_count": 2,
     "metadata": {},
     "output_type": "execute_result"
    }
   ],
   "source": [
    "d = {'k1':[1,2,3,\n",
    "           {'tricky':['life','man','machine',\n",
    "                      {'target':[1,2,3,'Artificial Intelligence']}]}]}\n",
    "d['k1'][3]['tricky'][3]['target'][3]"
   ]
  },
  {
   "cell_type": "markdown",
   "metadata": {},
   "source": [
    "2a.Create a new dictionary called price: with the following content:"
   ]
  },
  {
   "cell_type": "code",
   "execution_count": 17,
   "metadata": {},
   "outputs": [
    {
     "data": {
      "text/plain": [
       "16.0"
      ]
     },
     "execution_count": 17,
     "metadata": {},
     "output_type": "execute_result"
    }
   ],
   "source": [
    "price = {\n",
    "    \"banana\":4,\n",
    "    \"apple\":2,\n",
    "    \"orange\":1.5,\n",
    "    \"pear\":3\n",
    "}\n",
    "\n",
    "#b. Create another dictionary with the following contents and add it to the first one:\n",
    "\n",
    "price2 = {\n",
    "    \"grapes\": 2.5,\n",
    "    \"mellons\": 3\n",
    "}\n",
    "\n",
    "price.update(price2)\n",
    "#price\n",
    "\n",
    "#c. How much money would you make if you sold all of your food?\n",
    "money = 0\n",
    "for i in price.values():\n",
    "    money += i \n",
    "money\n"
   ]
  },
  {
   "cell_type": "code",
   "execution_count": 35,
   "metadata": {},
   "outputs": [
    {
     "data": {
      "text/plain": [
       "117.0"
      ]
     },
     "execution_count": 35,
     "metadata": {},
     "output_type": "execute_result"
    }
   ],
   "source": [
    "    \n",
    "#How much money would you make if you sold all of your food in stock?\n",
    "money2 = 0\n",
    "stock = {\n",
    "   \"banana\": 6,\n",
    "   \"apple\": 0,\n",
    "   \"orange\": 32,\n",
    "   \"pear\": 15\n",
    "}\n",
    "\n",
    "prices = {\n",
    "   \"banana\": 4,\n",
    "   \"apple\": 2,\n",
    "   \"orange\": 1.5,\n",
    "   \"pear\": 3\n",
    "}\n",
    "x = list(stock.values())\n",
    "y = list(prices.values())\n",
    "\n",
    "for i in range(len(x)): #mporw na parv length apo ta dictionaries kai na kanw to for me values apo ta diciotnaries \n",
    "    money2 = money2 + x[i]*y[i]\n",
    "    \n",
    "money2\n",
    "\"\"\"\"  total = 0 \n",
    "    for key in stock:\n",
    "        total += stock[key]+prices[key]\n",
    "    total\n",
    "\"\"\"\"\n"
   ]
  },
  {
   "cell_type": "markdown",
   "metadata": {},
   "source": [
    "3. From the two following lists: x = [2,4,5,6,7,1,6,8], y = [3,4,5,6,0,3,9] create a new list with the non common elements using sets."
   ]
  },
  {
   "cell_type": "code",
   "execution_count": 4,
   "metadata": {},
   "outputs": [
    {
     "data": {
      "text/plain": [
       "[0, 1, 2, 3, 7, 8, 9]"
      ]
     },
     "execution_count": 4,
     "metadata": {},
     "output_type": "execute_result"
    }
   ],
   "source": [
    "x = [2,4,5,6,7,1,6,8]\n",
    "y = [3,4,5,6,0,3,9]\n",
    "\n",
    "s1 = set(x)\n",
    "s2 = set(y)\n",
    "\n",
    "newList= list(s1^s2)\n",
    "newList"
   ]
  },
  {
   "cell_type": "markdown",
   "metadata": {},
   "source": [
    "4.Create a function that takes a list of numbers and returns a list with only the ones that are even.\n"
   ]
  },
  {
   "cell_type": "code",
   "execution_count": 12,
   "metadata": {},
   "outputs": [
    {
     "data": {
      "text/plain": [
       "[0, 2, 4, 6, 8, 10]"
      ]
     },
     "execution_count": 12,
     "metadata": {},
     "output_type": "execute_result"
    }
   ],
   "source": [
    "def evenfunction(listinput):\n",
    "    listinput2 = []\n",
    "    for item in listinput:\n",
    "        if item%2 == 0:\n",
    "            listinput2.append(item)\n",
    "            \n",
    "    return listinput2\n",
    "\n",
    "a = [0,1,2,3,4,5,6,7,8,9,10]\n",
    "evenfunction(a)\n",
    "\n"
   ]
  },
  {
   "cell_type": "markdown",
   "metadata": {},
   "source": [
    "5.Make a list of the squares of the even numbers between 1 to 10."
   ]
  },
  {
   "cell_type": "code",
   "execution_count": 13,
   "metadata": {},
   "outputs": [
    {
     "data": {
      "text/plain": [
       "[0, 4, 16, 36, 64, 100]"
      ]
     },
     "execution_count": 13,
     "metadata": {},
     "output_type": "execute_result"
    }
   ],
   "source": [
    "def evenfunction(listinput):\n",
    "    listinput2 = []\n",
    "    for item in listinput:\n",
    "        if item%2 == 0:\n",
    "            listinput2.append(item*item)\n",
    "            \n",
    "    return listinput2\n",
    "\n",
    "a = [0,1,2,3,4,5,6,7,8,9,10]\n",
    "evenfunction(a)"
   ]
  },
  {
   "cell_type": "markdown",
   "metadata": {},
   "source": [
    "6.Add a key to inventory called 'pocket'.\n",
    "Set the value of 'pocket' to be a list consisting of the strings 'seashell', 'blue berry', and 'key'.\n",
    ".sort() the items in the list stored under the 'backpack' key.\n",
    "Add 50 to the number stored under the 'gold' key."
   ]
  },
  {
   "cell_type": "code",
   "execution_count": null,
   "metadata": {},
   "outputs": [],
   "source": [
    "inventory = {\n",
    "   'gold' : 500,\n",
    "   'pouch' : ['flint', 'sapphire', 'gemstone'],\n",
    "   'backpack' : ['flute','dagger', 'bedroll','bread loaf']\n",
    "}\n",
    "\n",
    "inventory.update({'pocket':0})\n",
    "#inventory \n"
   ]
  },
  {
   "cell_type": "code",
   "execution_count": 12,
   "metadata": {},
   "outputs": [
    {
     "name": "stdout",
     "output_type": "stream",
     "text": [
      "Python 3.7.6\n"
     ]
    }
   ],
   "source": [
    "! python --version\n"
   ]
  },
  {
   "cell_type": "code",
   "execution_count": 10,
   "metadata": {},
   "outputs": [
    {
     "name": "stdout",
     "output_type": "stream",
     "text": [
      "Collecting package metadata (current_repodata.json): done\n",
      "Solving environment: done\n",
      "\n",
      "## Package Plan ##\n",
      "\n",
      "  environment location: /Users/alkis/opt/anaconda3\n",
      "\n",
      "  added / updated specs:\n",
      "    - conda\n",
      "\n",
      "\n",
      "The following packages will be downloaded:\n",
      "\n",
      "    package                    |            build\n",
      "    ---------------------------|-----------------\n",
      "    backports.functools_lru_cache-1.6.4|     pyhd3eb1b0_0           9 KB\n",
      "    backports.tempfile-1.0     |     pyhd3eb1b0_1          11 KB\n",
      "    conda-4.13.0               |   py37hecd8cb5_0         900 KB\n",
      "    conda-package-handling-1.8.1|   py37hca72f7f_0         1.5 MB\n",
      "    xmltodict-0.12.0           |     pyhd3eb1b0_0          13 KB\n",
      "    ------------------------------------------------------------\n",
      "                                           Total:         2.4 MB\n",
      "\n",
      "The following packages will be UPDATED:\n",
      "\n",
      "  backports.functoo~                             1.6.1-py_0 --> 1.6.4-pyhd3eb1b0_0\n",
      "  conda                                        4.8.2-py37_0 --> 4.13.0-py37hecd8cb5_0\n",
      "  conda-package-han~                   1.6.0-py37h1de35cc_0 --> 1.8.1-py37hca72f7f_0\n",
      "\n",
      "The following packages will be DOWNGRADED:\n",
      "\n",
      "  backports.tempfile                               1.0-py_1 --> 1.0-pyhd3eb1b0_1\n",
      "  xmltodict                                     0.12.0-py_0 --> 0.12.0-pyhd3eb1b0_0\n",
      "\n",
      "\n",
      "\n",
      "Downloading and Extracting Packages\n",
      "conda-4.13.0         | 900 KB    | ##################################### | 100% \n",
      "backports.functools_ | 9 KB      | ##################################### | 100% \n",
      "xmltodict-0.12.0     | 13 KB     | ##################################### | 100% \n",
      "conda-package-handli | 1.5 MB    | ##################################### | 100% \n",
      "backports.tempfile-1 | 11 KB     | ##################################### | 100% \n",
      "Preparing transaction: done\n",
      "Verifying transaction: done\n",
      "Executing transaction: done\n"
     ]
    }
   ],
   "source": [
    "! conda update conda -y"
   ]
  },
  {
   "cell_type": "code",
   "execution_count": 15,
   "metadata": {},
   "outputs": [
    {
     "name": "stdout",
     "output_type": "stream",
     "text": [
      "Python 3.7.6\n"
     ]
    }
   ],
   "source": [
    "! python --version"
   ]
  },
  {
   "cell_type": "code",
   "execution_count": null,
   "metadata": {},
   "outputs": [],
   "source": []
  }
 ],
 "metadata": {
  "kernelspec": {
   "display_name": "Python 3 (ipykernel)",
   "language": "python",
   "name": "python3"
  },
  "language_info": {
   "codemirror_mode": {
    "name": "ipython",
    "version": 3
   },
   "file_extension": ".py",
   "mimetype": "text/x-python",
   "name": "python",
   "nbconvert_exporter": "python",
   "pygments_lexer": "ipython3",
   "version": "3.7.6"
  }
 },
 "nbformat": 4,
 "nbformat_minor": 4
}
