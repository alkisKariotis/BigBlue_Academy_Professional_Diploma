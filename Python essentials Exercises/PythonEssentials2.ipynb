{
 "cells": [
  {
   "cell_type": "markdown",
   "metadata": {},
   "source": [
    "1.Make a list of the first ten multiples of ten (10, 20, 30... 90, 100). Print out your list."
   ]
  },
  {
   "cell_type": "code",
   "execution_count": 4,
   "metadata": {},
   "outputs": [
    {
     "name": "stdout",
     "output_type": "stream",
     "text": [
      "[10, 20, 30, 40, 50, 60, 70, 80, 90, 100]\n"
     ]
    }
   ],
   "source": [
    "list_of_tens = []\n",
    "for x in range(1,11):\n",
    "    list_of_tens.append(x*10)\n",
    "    \n",
    "print(list_of_tens)"
   ]
  },
  {
   "cell_type": "markdown",
   "metadata": {},
   "source": [
    "2.Write a program that takes as input an integer n and calculates the sum of all integers between 1 and n."
   ]
  },
  {
   "cell_type": "code",
   "execution_count": 6,
   "metadata": {},
   "outputs": [
    {
     "name": "stdin",
     "output_type": "stream",
     "text": [
      "Enter an integer:  3\n"
     ]
    },
    {
     "name": "stdout",
     "output_type": "stream",
     "text": [
      "6\n"
     ]
    }
   ],
   "source": [
    "while True:\n",
    "    try:\n",
    "        n = int(input(\"Enter an integer: \"))\n",
    "        break\n",
    "    except ValueError:\n",
    "        print(\"Please put an integer only.\")\n",
    "        continue\n",
    "summary = 0     \n",
    "\n",
    "for i in range(0,n):  #η κατευθείαν range(1,n+1) για να μην βγαζω κατω \n",
    "    summary = summary + i + 1\n",
    "    \n",
    "print(summary)"
   ]
  },
  {
   "cell_type": "markdown",
   "metadata": {},
   "source": [
    "3.Multiply all elements of the following list: x = [3,5,23,6,7]"
   ]
  },
  {
   "cell_type": "code",
   "execution_count": 18,
   "metadata": {},
   "outputs": [
    {
     "name": "stdout",
     "output_type": "stream",
     "text": [
      "14490\n"
     ]
    }
   ],
   "source": [
    "x = [3,5,23,6,7]\n",
    "multiply = 1 \n",
    "for i in x:\n",
    "    multiply = multiply*(i) #δεν χρειαζεται x[i] το στελνει κατευθειαν στην λιστα επειδή εχει παρένθεση, η αλλιως με length στον μετρητή και x[i] απο κάτω στον υπολογισμό \n",
    "    \n",
    "print(multiply)"
   ]
  },
  {
   "cell_type": "markdown",
   "metadata": {},
   "source": [
    "4.Get the domain from the string that has your email address"
   ]
  },
  {
   "cell_type": "code",
   "execution_count": 23,
   "metadata": {},
   "outputs": [
    {
     "data": {
      "text/plain": [
       "'acg.edu'"
      ]
     },
     "execution_count": 23,
     "metadata": {},
     "output_type": "execute_result"
    }
   ],
   "source": [
    "x = \"alkis@acg.edu\"\n",
    "y=x.split(\"@\")\n",
    "y[1]"
   ]
  },
  {
   "cell_type": "markdown",
   "metadata": {},
   "source": [
    "5.Given the following list, use indexing to grab the word Data Analytics lst = [1,2,[3,4],[5,[100,200,['Data Analytics]],23,11],1,7]"
   ]
  },
  {
   "cell_type": "code",
   "execution_count": 26,
   "metadata": {},
   "outputs": [
    {
     "data": {
      "text/plain": [
       "['Data Analytics']"
      ]
     },
     "execution_count": 26,
     "metadata": {},
     "output_type": "execute_result"
    }
   ],
   "source": [
    "lst = [1,2,[3,4],[5,[100,200,['Data Analytics']],23,11],1,7]\n",
    "lst[3][1][2] #με [0] στο τέλος μετά τα nested μου το φέρνει χωρίς τα brackets "
   ]
  },
  {
   "cell_type": "markdown",
   "metadata": {},
   "source": [
    "6.Create a new list without duplicates from the given list: x = [32,3,5,4,4,3,2,6,4,5,6,7,8]"
   ]
  },
  {
   "cell_type": "code",
   "execution_count": 7,
   "metadata": {},
   "outputs": [
    {
     "data": {
      "text/plain": [
       "[32, 3, 5, 4, 2, 6, 7, 8]"
      ]
     },
     "execution_count": 7,
     "metadata": {},
     "output_type": "execute_result"
    }
   ],
   "source": [
    "x = [32,3,5,4,4,3,2,6,4,5,6,7,8]\n",
    "y = []\n",
    "\n",
    "for i in range(len(x)):\n",
    "    if x[i] in y:\n",
    "        pass #απλά πέρνα και πήγαινε στο else \n",
    "    else:\n",
    "        y.append(x[i])       \n",
    "y"
   ]
  },
  {
   "cell_type": "markdown",
   "metadata": {},
   "source": [
    "7"
   ]
  },
  {
   "cell_type": "code",
   "execution_count": 8,
   "metadata": {},
   "outputs": [
    {
     "data": {
      "text/plain": [
       "[2, 7, 1, 8, 3, 0, 3, 9]"
      ]
     },
     "execution_count": 8,
     "metadata": {},
     "output_type": "execute_result"
    }
   ],
   "source": [
    "x=[2,4,5,6,7,1,6,8]\n",
    "y=[3,4,5,6,0,3,9]\n",
    "\n",
    "unique=[]\n",
    "\n",
    "for element in x:\n",
    "    if element in y:\n",
    "        pass\n",
    "    else:\n",
    "        unique.append(element)\n",
    "        \n",
    "for element in y:\n",
    "    if element in x:\n",
    "        pass\n",
    "    else:\n",
    "        unique.append(element)\n",
    "        \n",
    "unique\n",
    "\n",
    "\"\"\"\"\"x = [2,4,5,6,7,1,6,8]\n",
    "y = [3,4,5,6,0,3,9]\n",
    "z = []\n",
    "for i in range (len(x)):\n",
    "    if x[i] not in y:\n",
    "        z.append(x[i])\n",
    "for i in range (len(y)):\n",
    "    if y[i] not in x:\n",
    "        z.append(y[i])\"\"\"\"\""
   ]
  },
  {
   "cell_type": "markdown",
   "metadata": {},
   "source": [
    "8"
   ]
  },
  {
   "cell_type": "code",
   "execution_count": 9,
   "metadata": {},
   "outputs": [
    {
     "data": {
      "text/plain": [
       "[4, 67, 8, 32, 21]"
      ]
     },
     "execution_count": 9,
     "metadata": {},
     "output_type": "execute_result"
    }
   ],
   "source": [
    "x=[4,67,8,'None',32,'Missing',21]\n",
    "lst=[]\n",
    "\n",
    "for elem in x:\n",
    "    if type(elem)==str:\n",
    "        pass\n",
    "    else:\n",
    "        lst.append(elem)\n",
    "lst"
   ]
  },
  {
   "cell_type": "markdown",
   "metadata": {},
   "source": [
    "9"
   ]
  },
  {
   "cell_type": "code",
   "execution_count": 11,
   "metadata": {},
   "outputs": [
    {
     "name": "stdout",
     "output_type": "stream",
     "text": [
      "silent is an anagram oflitsen\n",
      "litsen is an anagram ofsilent\n"
     ]
    }
   ],
   "source": [
    "string='How can you litsen if you are not silent?'\n",
    "words=string.replace(\"?\",\"\").lower().split() #sto replace('?','')etsi to bgazw ousiastika apo ta data \n",
    "\n",
    "for word in words:\n",
    "    for sub_word in words:\n",
    "        if sorted(sub_word)==sorted(word) and word != sub_word:\n",
    "            print(str(sub_word) + ' is an anagram of' + str(word))"
   ]
  },
  {
   "cell_type": "code",
   "execution_count": null,
   "metadata": {},
   "outputs": [],
   "source": []
  }
 ],
 "metadata": {
  "kernelspec": {
   "display_name": "Python 3 (ipykernel)",
   "language": "python",
   "name": "python3"
  },
  "language_info": {
   "codemirror_mode": {
    "name": "ipython",
    "version": 3
   },
   "file_extension": ".py",
   "mimetype": "text/x-python",
   "name": "python",
   "nbconvert_exporter": "python",
   "pygments_lexer": "ipython3",
   "version": "3.7.6"
  }
 },
 "nbformat": 4,
 "nbformat_minor": 4
}
