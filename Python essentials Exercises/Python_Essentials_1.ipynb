{
 "cells": [
  {
   "cell_type": "markdown",
   "metadata": {
    "id": "-s2ez_G5HfuF"
   },
   "source": [
    "Exercice 1 "
   ]
  },
  {
   "cell_type": "code",
   "execution_count": null,
   "metadata": {
    "colab": {
     "base_uri": "https://localhost:8080/"
    },
    "id": "9c0nTmYPHgxl",
    "outputId": "ff21a812-d2a7-4769-e27f-27198c48f160"
   },
   "outputs": [
    {
     "name": "stdout",
     "output_type": "stream",
     "text": [
      "230\n"
     ]
    }
   ],
   "source": [
    "a=5\n",
    "b=225\n",
    "c=a+b\n",
    "print(c)"
   ]
  },
  {
   "cell_type": "markdown",
   "metadata": {
    "id": "se_jpFK4HzYZ"
   },
   "source": [
    "Exercise 2"
   ]
  },
  {
   "cell_type": "code",
   "execution_count": null,
   "metadata": {
    "colab": {
     "base_uri": "https://localhost:8080/"
    },
    "id": "LFA5RSHYH090",
    "outputId": "d0f64372-f27a-41aa-b47c-59e88161b80e"
   },
   "outputs": [
    {
     "name": "stdout",
     "output_type": "stream",
     "text": [
      "2.3333333333333335\n"
     ]
    }
   ],
   "source": [
    "x=7/3\n",
    "print(x)"
   ]
  },
  {
   "cell_type": "markdown",
   "metadata": {
    "id": "wqz-wVNdH7IO"
   },
   "source": [
    "Exercise 3"
   ]
  },
  {
   "cell_type": "code",
   "execution_count": 50,
   "metadata": {
    "colab": {
     "base_uri": "https://localhost:8080/"
    },
    "id": "5A6scCAFH8Ya",
    "outputId": "16aa3159-f59b-483e-985e-483814b86429"
   },
   "outputs": [
    {
     "name": "stdout",
     "output_type": "stream",
     "text": [
      "2\n"
     ]
    }
   ],
   "source": [
    "x=int(7/3)\n",
    "print(x)"
   ]
  },
  {
   "cell_type": "markdown",
   "metadata": {
    "id": "HVidhTMIIPha"
   },
   "source": [
    "Exercise 4"
   ]
  },
  {
   "cell_type": "code",
   "execution_count": null,
   "metadata": {
    "colab": {
     "base_uri": "https://localhost:8080/"
    },
    "id": "HI1xm5L6IQpj",
    "outputId": "909a49cc-1b7e-4fbf-8032-149e2944e57f"
   },
   "outputs": [
    {
     "name": "stdout",
     "output_type": "stream",
     "text": [
      "1\n"
     ]
    }
   ],
   "source": [
    "x=7%3\n",
    "print(x)"
   ]
  },
  {
   "cell_type": "markdown",
   "metadata": {
    "id": "HwBn5Bn0IUYC"
   },
   "source": [
    "Exercise 5a)"
   ]
  },
  {
   "cell_type": "code",
   "execution_count": 58,
   "metadata": {
    "colab": {
     "base_uri": "https://localhost:8080/"
    },
    "id": "aShUC4XOIVng",
    "outputId": "6f5f1c80-1f3c-4dd7-87d3-f3b86d643bfd"
   },
   "outputs": [
    {
     "name": "stdout",
     "output_type": "stream",
     "text": [
      "There is a nice bar on the island to relax!\n"
     ]
    },
    {
     "data": {
      "text/plain": [
       "6"
      ]
     },
     "execution_count": 58,
     "metadata": {},
     "output_type": "execute_result"
    }
   ],
   "source": [
    "x= \"There is a nice bar on the island!\"\n",
    "y=x.replace('!',' to relax!')\n",
    "\n",
    "print(y)\n",
    "\n",
    "y.index('is')\n",
    "\n",
    "\n"
   ]
  },
  {
   "cell_type": "markdown",
   "metadata": {
    "id": "x5-ODdE_KiSQ"
   },
   "source": [
    "Exercise 5b)"
   ]
  },
  {
   "cell_type": "code",
   "execution_count": 53,
   "metadata": {
    "colab": {
     "base_uri": "https://localhost:8080/"
    },
    "id": "vvHD0Ol6KkQx",
    "outputId": "673fd4c5-f055-4d4c-d28e-7b1180aed950"
   },
   "outputs": [
    {
     "data": {
      "text/plain": [
       "27"
      ]
     },
     "execution_count": 53,
     "metadata": {},
     "output_type": "execute_result"
    }
   ],
   "source": [
    "x= \"There is a nice bar on the island!\"\n",
    "y=x.replace('!',' to relax!',1)\n",
    "\n",
    "y.index('is',7)\n"
   ]
  },
  {
   "cell_type": "markdown",
   "metadata": {
    "id": "RSK46BdKMlyP"
   },
   "source": [
    "Exercise 5c)"
   ]
  },
  {
   "cell_type": "code",
   "execution_count": 46,
   "metadata": {
    "colab": {
     "base_uri": "https://localhost:8080/"
    },
    "id": "CTEhSPhlMnSD",
    "outputId": "0b7e06c5-83b8-46dc-b038-9fa54b671a27"
   },
   "outputs": [
    {
     "name": "stdout",
     "output_type": "stream",
     "text": [
      "16\n",
      "19\n",
      "bar\n",
      "34\n",
      "15\n"
     ]
    }
   ],
   "source": [
    "x= \"There is a nice bar on the island!\"\n",
    "y=x.find('bar')\n",
    "print(y)\n",
    "a=y+3\n",
    "print(a)\n",
    "z=x[y:a]\n",
    "print(z)\n",
    "\n",
    "b=len(x)\n",
    "print(b)\n",
    "c=b-a\n",
    "print(c)\n",
    "\n"
   ]
  },
  {
   "cell_type": "markdown",
   "metadata": {
    "id": "1czreLMhTCGa"
   },
   "source": [
    "Exercise 6"
   ]
  },
  {
   "cell_type": "code",
   "execution_count": null,
   "metadata": {
    "colab": {
     "base_uri": "https://localhost:8080/"
    },
    "id": "o2JFJIM3TEqb",
    "outputId": "da30411d-d96c-4f47-99ba-f9f306d4d49c"
   },
   "outputs": [
    {
     "name": "stdout",
     "output_type": "stream",
     "text": [
      "Data Analysts spend 80% of their time working with data and 10% communicating their results to the stakeholders!\n"
     ]
    }
   ],
   "source": [
    "prof=\"Data Analysts\"\n",
    "x=80\n",
    "y=10\n",
    "print(\"{} spend {}% of their time working with data and {}% communicating their results to the stakeholders!\".format(prof,x,y))"
   ]
  }
 ],
 "metadata": {
  "colab": {
   "collapsed_sections": [],
   "name": "Python Essentials 1.ipynb",
   "provenance": []
  },
  "kernelspec": {
   "display_name": "Python 3 (ipykernel)",
   "language": "python",
   "name": "python3"
  },
  "language_info": {
   "codemirror_mode": {
    "name": "ipython",
    "version": 3
   },
   "file_extension": ".py",
   "mimetype": "text/x-python",
   "name": "python",
   "nbconvert_exporter": "python",
   "pygments_lexer": "ipython3",
   "version": "3.7.6"
  }
 },
 "nbformat": 4,
 "nbformat_minor": 1
}
